{
 "cells": [
  {
   "cell_type": "code",
   "execution_count": 1,
   "id": "f95707e9",
   "metadata": {},
   "outputs": [
    {
     "data": {
      "text/plain": [
       "[1.73, 1.68, 1.71, 1.89, 1.79]"
      ]
     },
     "execution_count": 1,
     "metadata": {},
     "output_type": "execute_result"
    }
   ],
   "source": [
    "height = [1.73, 1.68, 1.71, 1.89, 1.79]\n",
    "height"
   ]
  },
  {
   "cell_type": "code",
   "execution_count": 3,
   "id": "9e505b14",
   "metadata": {},
   "outputs": [
    {
     "data": {
      "text/plain": [
       "[65.4, 59.2, 63.6, 88.4, 68.7]"
      ]
     },
     "execution_count": 3,
     "metadata": {},
     "output_type": "execute_result"
    }
   ],
   "source": [
    "weight = [65.4, 59.2, 63.6, 88.4, 68.7]\n",
    "weight"
   ]
  },
  {
   "cell_type": "code",
   "execution_count": 4,
   "id": "7c8ce236",
   "metadata": {},
   "outputs": [
    {
     "ename": "TypeError",
     "evalue": "unsupported operand type(s) for ** or pow(): 'list' and 'int'",
     "output_type": "error",
     "traceback": [
      "\u001b[0;31m---------------------------------------------------------------------------\u001b[0m",
      "\u001b[0;31mTypeError\u001b[0m                                 Traceback (most recent call last)",
      "Cell \u001b[0;32mIn[4], line 6\u001b[0m\n\u001b[1;32m      1\u001b[0m \u001b[38;5;124;03m'''\u001b[39;00m\n\u001b[1;32m      2\u001b[0m \u001b[38;5;124;03mif we try to calculate body mass index for each individual,\u001b[39;00m\n\u001b[1;32m      3\u001b[0m \u001b[38;5;124;03mwe would hope the following to work\u001b[39;00m\n\u001b[1;32m      4\u001b[0m \u001b[38;5;124;03m'''\u001b[39;00m\n\u001b[0;32m----> 6\u001b[0m weight \u001b[38;5;241m/\u001b[39m \u001b[43mheight\u001b[49m\u001b[43m \u001b[49m\u001b[38;5;241;43m*\u001b[39;49m\u001b[38;5;241;43m*\u001b[39;49m\u001b[43m \u001b[49m\u001b[38;5;241;43m2\u001b[39;49m\n",
      "\u001b[0;31mTypeError\u001b[0m: unsupported operand type(s) for ** or pow(): 'list' and 'int'"
     ]
    }
   ],
   "source": [
    "'''\n",
    "if we try to calculate body mass index for each individual,\n",
    "we would hope the following to work\n",
    "'''\n",
    "\n",
    "weight / height ** 2\n"
   ]
  },
  {
   "cell_type": "code",
   "execution_count": 8,
   "id": "4b4d0a00",
   "metadata": {},
   "outputs": [
    {
     "name": "stdout",
     "output_type": "stream",
     "text": [
      "this is np_height: [1.73 1.68 1.71 1.89 1.79]\n",
      "This is np_weight: [65.4 59.2 63.6 88.4 68.7]\n",
      "this is bmi: [21.85171573 20.97505669 21.75028214 24.7473475  21.44127836]\n"
     ]
    }
   ],
   "source": [
    "'''\n",
    "NumPy \n",
    "- Numeric Python\n",
    "- Alternative to Python List: NumPy Array\n",
    "- Calculations over entire arrays\n",
    "- Easy and Fast\n",
    "- Installation\n",
    "    - pip3 install numpy\n",
    "'''\n",
    "\n",
    "import numpy as np\n",
    "\n",
    "np_height = np.array(height)\n",
    "\n",
    "print(f'this is np_height: {np_height}')\n",
    "\n",
    "np_weight = np.array(weight)\n",
    "\n",
    "print(f'This is np_weight: {np_weight}')\n",
    "\n",
    "'''\n",
    "what is happening here: person X weight / person X height ** 2 gave us the bmi, \n",
    "it worked because we used numpy and numpy is designed to perform calculations on \n",
    "two numpy list\n",
    "\n",
    "it can do these things easily because it assume that all datatypes within\n",
    "'''\n",
    "bmi = np_weight / np_height ** 2\n",
    "\n",
    "print(f'this is bmi: {bmi}')"
   ]
  },
  {
   "cell_type": "code",
   "execution_count": 10,
   "id": "da1aca52",
   "metadata": {},
   "outputs": [
    {
     "name": "stdout",
     "output_type": "stream",
     "text": [
      "this is an example: ['1.0' 'is' 'True']\n",
      "this is combined list: [1, 2, 3, 1, 2, 3]\n",
      "this is combined numpy_array: [2 4 6]\n"
     ]
    }
   ],
   "source": [
    "'''\n",
    "Remarks:\n",
    "\n",
    "if we try to use multiple types in an array it will convert all objects within \n",
    "array to match the data type of first element\n",
    "'''\n",
    "import numpy as np\n",
    "\n",
    "np_array = np.array([1.0, \"is\", True])\n",
    "\n",
    "print(f'this is an example: {np_array}')\n",
    "\n",
    "'''\n",
    "when we take two list and try to combine them using + sign\n",
    "what we see list elements get combined into one array \n",
    "\n",
    "But\n",
    "\n",
    "when we combine two numpy arrays using + sign. \n",
    "The resulting numpy array is a sum of elements from two numpy array\n",
    "'''\n",
    "\n",
    "python_list = [1, 2, 3]\n",
    "numpy_array = np.array([1, 2, 3])\n",
    "\n",
    "python_list_combined = python_list + python_list\n",
    "numpy_list_combined = numpy_array + numpy_array\n",
    "\n",
    "print(f'this is combined list: {python_list_combined}')\n",
    "print(f'this is combined numpy_array: {numpy_list_combined}')"
   ]
  },
  {
   "cell_type": "code",
   "execution_count": 15,
   "id": "8b0f49a0",
   "metadata": {},
   "outputs": [
    {
     "name": "stdout",
     "output_type": "stream",
     "text": [
      "[21.85171573 20.97505669 21.75028214 24.7473475  21.44127836]\n",
      "This is second element: 20.97505668934241\n",
      "This shows all elements either, matching given condition, True or False: [False False False  True False]\n",
      "This shows only elements with value true, for previously given condition: [24.7473475]\n"
     ]
    }
   ],
   "source": [
    "'''\n",
    "Numpy Subsetting\n",
    "\n",
    "'''\n",
    "# initialize\n",
    "print(bmi)\n",
    "\n",
    "# getting second element from numpy\n",
    "print(f'This is second element: {bmi[1]}')\n",
    "\n",
    "# subsetting numpy array to find all elements that match condition below\n",
    "subset_numpy_bool_arr = bmi > 23\n",
    "\n",
    "print(f'This shows all elements either, matching given condition, True or False: {subset_numpy_bool_arr}')\n",
    "# choosing only specific values that are true against the above condition\n",
    "\n",
    "subset_numpy_arr_OTrueOptions = bmi[bmi > 23]\n",
    "print(f'This shows only elements with value true, for previously given condition: {subset_numpy_arr_OTrueOptions}')"
   ]
  },
  {
   "cell_type": "code",
   "execution_count": 24,
   "id": "baa9c340",
   "metadata": {},
   "outputs": [
    {
     "name": "stdout",
     "output_type": "stream",
     "text": [
      "This prints np_array: [[ 1.73  1.68  1.71  1.89  1.79]\n",
      " [65.4  59.2  63.6  88.4  68.7 ]])\n",
      "This prints attributes of np_array: (2, 5)\n"
     ]
    }
   ],
   "source": [
    "'''\n",
    "2D Numpy Arrays \n",
    "\n",
    ".ndarray = n dimensional arrays\n",
    "'''\n",
    "type(np_height)\n",
    "\n",
    "np_2d = np.array([[1.73, 1.68, 1.71, 1.89, 1.79],\n",
    "                  [65.4, 59.2, 63.6, 88.4, 68.7]])\n",
    "\n",
    "print(f'This prints np_array: {np_2d})')\n",
    "\n",
    "print(f'This prints attributes of np_2d_array: {np_2d.shape}')\n"
   ]
  }
 ],
 "metadata": {
  "kernelspec": {
   "display_name": "Python 3",
   "language": "python",
   "name": "python3"
  },
  "language_info": {
   "codemirror_mode": {
    "name": "ipython",
    "version": 3
   },
   "file_extension": ".py",
   "mimetype": "text/x-python",
   "name": "python",
   "nbconvert_exporter": "python",
   "pygments_lexer": "ipython3",
   "version": "3.9.6"
  }
 },
 "nbformat": 4,
 "nbformat_minor": 5
}
